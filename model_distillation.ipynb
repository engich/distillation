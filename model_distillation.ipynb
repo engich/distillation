{
 "cells": [
  {
   "cell_type": "code",
   "execution_count": 1,
   "metadata": {},
   "outputs": [
    {
     "name": "stderr",
     "output_type": "stream",
     "text": [
      "Using TensorFlow backend.\n"
     ]
    }
   ],
   "source": [
    "import gzip\n",
    "import numpy as np\n",
    "import pandas as pd\n",
    "from time import time\n",
    "from sklearn.model_selection import train_test_split\n",
    "import tensorflow as tf\n",
    "import keras\n",
    "import keras.layers as layers\n",
    "from keras.models import Sequential\n",
    "from keras.preprocessing.image import ImageDataGenerator\n",
    "from keras.utils.np_utils import to_categorical\n",
    "from keras.callbacks import TensorBoard\n",
    "from requests import get"
   ]
  },
  {
   "cell_type": "code",
   "execution_count": 2,
   "metadata": {},
   "outputs": [],
   "source": [
    "EPOCH = 5\n",
    "BATCH = 128\n",
    "CLASS = 10\n",
    "\n",
    "def _download(url_name, file_name):\n",
    "    with open(file_name, \"wb\") as file:\n",
    "        response = get(url_name)\n",
    "        file.write(response.content)\n",
    "\n",
    "def _read(m_path, l_path):\n",
    "    with gzip.open(l_path, 'rb') as l_file:\n",
    "        ls = np.frombuffer(l_file.read(),\n",
    "                           dtype=np.uint8,\n",
    "                           offset=8)\n",
    "\n",
    "    with gzip.open(m_path,'rb') as i_file:\n",
    "        length = len(ls)\n",
    "        fs = np.frombuffer(i_file.read(),\n",
    "                           dtype=np.uint8,\n",
    "                           offset=16).reshape(length, 784).reshape(length, 28, 28, 1)\n",
    "\n",
    "    return fs, ls\n",
    "\n",
    "def _softmax(x):\n",
    "    return np.exp(x) / (np.exp(x).sum())\n",
    "\n",
    "def _loss(y_t, y_p, alpha):\n",
    "    y_t, y_ts = y_true[: , :CLASS], y_true[: , CLASS:]\n",
    "    y_p, y_ps = y_pred[: , :CLASS], y_pred[: , CLASS:]\n",
    "    return alpha * logloss(y_t, y_p) + logloss(y_ts, y_ps)\n",
    "\n",
    "def _accuracy(y_t, y_p):\n",
    "    y_t = y_t[:, :CLASS]\n",
    "    y_p = y_p[:, :CLASS]\n",
    "    return categorical_accuracy(y_t, y_p)\n",
    "\n",
    "def _get_model_complex():\n",
    "    model = keras.Sequential()\n",
    "    model.add(layers.Conv2D(filters=6,\n",
    "                            kernel_size=(3, 3),\n",
    "                            activation='relu',\n",
    "                            input_shape=(32,32,1)))\n",
    "    model.add(layers.AveragePooling2D())\n",
    "    model.add(layers.Conv2D(filters=16,\n",
    "                            kernel_size=(3, 3),\n",
    "                            activation='relu'))\n",
    "    model.add(layers.AveragePooling2D())\n",
    "    model.add(layers.Flatten())\n",
    "    model.add(layers.Dense(units=120,\n",
    "                           activation='relu'))\n",
    "    model.add(layers.Dense(units=84,\n",
    "                           activation='relu'))\n",
    "    model.add(layers.Dense(units=10,\n",
    "                           activation = 'softmax'))\n",
    "    return model\n",
    "\n",
    "def _get_model_simple():\n",
    "    model = Sequential()\n",
    "    model.add(layers.Flatten(input_shape=(32,32,1)))\n",
    "    model.add(layers.Dense(32,\n",
    "                           activation='relu'))\n",
    "    model.add(layers.Dropout(0.2))\n",
    "    model.add(layers.Dense(CLASS))\n",
    "    model.add(layers.Activation('softmax'))\n",
    "    return model"
   ]
  },
  {
   "cell_type": "code",
   "execution_count": 3,
   "metadata": {},
   "outputs": [],
   "source": [
    "_download('http://yann.lecun.com/exdb/mnist/train-images-idx3-ubyte.gz', 'train-images-idx3-ubyte.gz')\n",
    "_download('http://yann.lecun.com/exdb/mnist/train-labels-idx1-ubyte.gz', 'train-labels-idx1-ubyte.gz')\n",
    "_download('http://yann.lecun.com/exdb/mnist/t10k-images-idx3-ubyte.gz', 't10k-images-idx3-ubyte.gz')\n",
    "_download('http://yann.lecun.com/exdb/mnist/t10k-labels-idx1-ubyte.gz', 't10k-labels-idx1-ubyte.gz')"
   ]
  },
  {
   "cell_type": "code",
   "execution_count": 4,
   "metadata": {},
   "outputs": [],
   "source": [
    "train = {}\n",
    "test = {}\n",
    "\n",
    "train['features'], train['labels'] = _read('train-images-idx3-ubyte.gz',\n",
    "                                           'train-labels-idx1-ubyte.gz')\n",
    "test['features'], test['labels'] = _read('t10k-images-idx3-ubyte.gz',\n",
    "                                         't10k-labels-idx1-ubyte.gz')\n",
    "train['features'] = np.pad(train['features'],\n",
    "                           ((0, 0), (2, 2), (2, 2), (0, 0)),\n",
    "                           'constant')\n",
    "test['features'] = np.pad(test['features'],\n",
    "                          ((0, 0), (2, 2), (2, 2), (0, 0)),\n",
    "                          'constant')\n",
    "\n",
    "X_train, y_train = train['features'], to_categorical(train['labels'])\n",
    "X_test, y_test = test['features'], to_categorical(test['labels'])\n",
    "\n",
    "train_g = ImageDataGenerator().flow(X_train, y_train,\n",
    "                                    batch_size=BATCH)\n",
    "test_g = ImageDataGenerator().flow(X_test, y_test,\n",
    "                                   batch_size=BATCH)"
   ]
  },
  {
   "cell_type": "code",
   "execution_count": 5,
   "metadata": {},
   "outputs": [],
   "source": [
    "model = _get_model_complex()\n",
    "model.compile(loss=keras.losses.categorical_crossentropy,\n",
    "              optimizer=keras.optimizers.Adam(),\n",
    "              metrics=['accuracy'])"
   ]
  },
  {
   "cell_type": "code",
   "execution_count": 6,
   "metadata": {},
   "outputs": [
    {
     "name": "stdout",
     "output_type": "stream",
     "text": [
      "Epoch 1/5\n",
      "468/468 [==============================] - 22s 46ms/step - loss: 0.3623 - accuracy: 0.9235 - val_loss: 0.1022 - val_accuracy: 0.9714\n",
      "Epoch 2/5\n",
      "468/468 [==============================] - 20s 43ms/step - loss: 0.0751 - accuracy: 0.9767 - val_loss: 0.1387 - val_accuracy: 0.9817\n",
      "Epoch 3/5\n",
      "468/468 [==============================] - 19s 41ms/step - loss: 0.0516 - accuracy: 0.9840 - val_loss: 0.0167 - val_accuracy: 0.9815\n",
      "Epoch 4/5\n",
      "468/468 [==============================] - 21s 45ms/step - loss: 0.0424 - accuracy: 0.9867 - val_loss: 0.0333 - val_accuracy: 0.9863\n",
      "Epoch 5/5\n",
      "468/468 [==============================] - 24s 51ms/step - loss: 0.0353 - accuracy: 0.9887 - val_loss: 0.0409 - val_accuracy: 0.9851\n"
     ]
    },
    {
     "data": {
      "text/plain": [
       "<keras.callbacks.callbacks.History at 0x7fb7381ce090>"
      ]
     },
     "execution_count": 6,
     "metadata": {},
     "output_type": "execute_result"
    }
   ],
   "source": [
    "model.fit_generator(train_g,\n",
    "                    steps_per_epoch=X_train.shape[0] // BATCH,\n",
    "                    epochs=EPOCH, \n",
    "                    validation_data=test_g,\n",
    "                    validation_steps=X_test.shape[0] // BATCH, \n",
    "                    shuffle=True)"
   ]
  },
  {
   "cell_type": "code",
   "execution_count": 7,
   "metadata": {},
   "outputs": [],
   "source": [
    "model_complex = keras.Model(model.input,\n",
    "                            model.get_layer('dense_3').output)"
   ]
  },
  {
   "cell_type": "code",
   "execution_count": 8,
   "metadata": {},
   "outputs": [],
   "source": [
    "y_train_ = np.concatenate([y_train,\n",
    "                           _softmax(model_complex.predict(X_train))],\n",
    "                          axis=1)\n",
    "y_test_ =  np.concatenate([y_test,\n",
    "                           _softmax(model_complex.predict(X_test) )],\n",
    "                          axis =1)"
   ]
  },
  {
   "cell_type": "code",
   "execution_count": 9,
   "metadata": {},
   "outputs": [],
   "source": [
    "model_simple = _get_model_simple()\n",
    "model_simple.layers.pop()\n",
    "\n",
    "ls = model_simple.layers[-1].output \n",
    "ps = layers.Activation('softmax')(ls)\n",
    "out = layers.concatenate([ps, ps])\n",
    "\n",
    "model_simple = keras.Model(model_simple.input, out)\n",
    "model_simple.compile(loss=keras.losses.categorical_crossentropy,\n",
    "                     optimizer=keras.optimizers.Adam(),\n",
    "                     metrics=['accuracy'])"
   ]
  },
  {
   "cell_type": "code",
   "execution_count": 11,
   "metadata": {},
   "outputs": [
    {
     "name": "stdout",
     "output_type": "stream",
     "text": [
      "Train on 60000 samples, validate on 10000 samples\n",
      "Epoch 1/5\n",
      "60000/60000 [==============================] - 3s 44us/step - loss: 2.4699 - accuracy: 0.6844 - val_loss: 2.3933 - val_accuracy: 0.7610\n",
      "Epoch 2/5\n",
      "60000/60000 [==============================] - 2s 41us/step - loss: 2.4262 - accuracy: 0.7286 - val_loss: 2.3868 - val_accuracy: 0.7676\n",
      "Epoch 3/5\n",
      "60000/60000 [==============================] - 3s 43us/step - loss: 2.4076 - accuracy: 0.7467 - val_loss: 2.3641 - val_accuracy: 0.7900\n",
      "Epoch 4/5\n",
      "60000/60000 [==============================] - 3s 48us/step - loss: 2.4001 - accuracy: 0.7543 - val_loss: 2.3585 - val_accuracy: 0.7957\n",
      "Epoch 5/5\n",
      "60000/60000 [==============================] - 3s 49us/step - loss: 2.3973 - accuracy: 0.7571 - val_loss: 2.3595 - val_accuracy: 0.7950\n"
     ]
    },
    {
     "data": {
      "text/plain": [
       "<keras.callbacks.callbacks.History at 0x7fb71eb2dbd0>"
      ]
     },
     "execution_count": 11,
     "metadata": {},
     "output_type": "execute_result"
    }
   ],
   "source": [
    "model_simple.fit(X_train, y_train_,\n",
    "          batch_size=BATCH,\n",
    "          epochs=EPOCH,\n",
    "          verbose=1,\n",
    "          validation_data=(X_test, y_test_))"
   ]
  },
  {
   "cell_type": "code",
   "execution_count": null,
   "metadata": {},
   "outputs": [],
   "source": []
  }
 ],
 "metadata": {
  "kernelspec": {
   "display_name": "Python 3",
   "language": "python",
   "name": "python3"
  },
  "language_info": {
   "codemirror_mode": {
    "name": "ipython",
    "version": 3
   },
   "file_extension": ".py",
   "mimetype": "text/x-python",
   "name": "python",
   "nbconvert_exporter": "python",
   "pygments_lexer": "ipython3",
   "version": "3.7.4"
  }
 },
 "nbformat": 4,
 "nbformat_minor": 4
}
